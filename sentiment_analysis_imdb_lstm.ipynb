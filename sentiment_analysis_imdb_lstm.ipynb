{
  "cells": [
    {
      "cell_type": "markdown",
      "metadata": {
        "id": "view-in-github",
        "colab_type": "text"
      },
      "source": [
        "<a href=\"https://colab.research.google.com/github/ichrafmoula/Sentiment-analysis-with-LSTM/blob/main/sentiment_analysis_imdb_lstm.ipynb\" target=\"_parent\"><img src=\"https://colab.research.google.com/assets/colab-badge.svg\" alt=\"Open In Colab\"/></a>"
      ]
    },
    {
      "cell_type": "markdown",
      "metadata": {
        "id": "kSTllfmHTeGw"
      },
      "source": [
        "**Import all **"
      ]
    },
    {
      "cell_type": "code",
      "execution_count": 34,
      "metadata": {
        "colab": {
          "base_uri": "https://localhost:8080/"
        },
        "id": "TfJcG712EcyC",
        "outputId": "bf67f6ee-4e58-4a20-ea62-93a39d3a05ee"
      },
      "outputs": [
        {
          "output_type": "stream",
          "name": "stdout",
          "text": [
            "[nltk_data] Downloading package stopwords to /root/nltk_data...\n",
            "[nltk_data]   Package stopwords is already up-to-date!\n"
          ]
        },
        {
          "output_type": "execute_result",
          "data": {
            "text/plain": [
              "True"
            ]
          },
          "metadata": {},
          "execution_count": 34
        }
      ],
      "source": [
        "import pandas as pd    # to load dataset\n",
        "import numpy as np     # for mathematic equation\n",
        "from nltk.corpus import stopwords   # to get collection of stopwords\n",
        "from sklearn.model_selection import train_test_split       # for splitting dataset\n",
        "from tensorflow.keras.preprocessing.text import Tokenizer  # to encode text to int\n",
        "from tensorflow.keras.preprocessing.sequence import pad_sequences   # to do padding or truncating\n",
        "from tensorflow.keras.models import Sequential     # the model\n",
        "from tensorflow.keras.layers import Embedding, LSTM, Dense # layers of the architecture\n",
        "from tensorflow.keras.callbacks import ModelCheckpoint   # save model\n",
        "from tensorflow.keras.models import load_model   # load saved model\n",
        "import re\n",
        "import nltk\n",
        "nltk.download('stopwords')"
      ]
    },
    {
      "cell_type": "markdown",
      "metadata": {
        "id": "jglu0_ELUg3g"
      },
      "source": [
        "**Load the dataset**"
      ]
    },
    {
      "cell_type": "code",
      "execution_count": 35,
      "metadata": {
        "colab": {
          "base_uri": "https://localhost:8080/"
        },
        "id": "3H3PxbS6xknj",
        "outputId": "027f9328-433b-434f-f6b3-8dca159c158e"
      },
      "outputs": [
        {
          "output_type": "stream",
          "name": "stdout",
          "text": [
            "Downloading...\n",
            "From: https://drive.google.com/uc?id=1S6qMioqPJjyBLpLVz4gmRTnJHnjitnuV\n",
            "To: /content/apps.csv\n",
            "100% 134k/134k [00:00<00:00, 77.7MB/s]\n",
            "Downloading...\n",
            "From: https://drive.google.com/uc?id=1zdmewp7ayS4js4VtrJEHzAheSW-5NBZv\n",
            "To: /content/reviews.csv\n",
            "100% 7.17M/7.17M [00:00<00:00, 160MB/s]\n"
          ]
        }
      ],
      "source": [
        "#load the Google Play app reviews dataset\n",
        "!gdown --id 1S6qMioqPJjyBLpLVz4gmRTnJHnjitnuV\n",
        "!gdown --id 1zdmewp7ayS4js4VtrJEHzAheSW-5NBZv"
      ]
    },
    {
      "cell_type": "code",
      "execution_count": 36,
      "metadata": {
        "colab": {
          "base_uri": "https://localhost:8080/",
          "height": 760
        },
        "id": "J7qz-wbqxmVU",
        "outputId": "a57b8159-b208-474e-861d-7707b135866c"
      },
      "outputs": [
        {
          "output_type": "stream",
          "name": "stderr",
          "text": [
            "/usr/local/lib/python3.7/dist-packages/IPython/core/interactiveshell.py:2882: FutureWarning: The error_bad_lines argument has been deprecated and will be removed in a future version.\n",
            "\n",
            "\n",
            "  exec(code_obj, self.user_global_ns, self.user_ns)\n"
          ]
        },
        {
          "output_type": "execute_result",
          "data": {
            "text/html": [
              "\n",
              "  <div id=\"df-24a8bde6-a2f6-4f0a-aaab-96f3c485e5d0\">\n",
              "    <div class=\"colab-df-container\">\n",
              "      <div>\n",
              "<style scoped>\n",
              "    .dataframe tbody tr th:only-of-type {\n",
              "        vertical-align: middle;\n",
              "    }\n",
              "\n",
              "    .dataframe tbody tr th {\n",
              "        vertical-align: top;\n",
              "    }\n",
              "\n",
              "    .dataframe thead th {\n",
              "        text-align: right;\n",
              "    }\n",
              "</style>\n",
              "<table border=\"1\" class=\"dataframe\">\n",
              "  <thead>\n",
              "    <tr style=\"text-align: right;\">\n",
              "      <th></th>\n",
              "      <th>userName</th>\n",
              "      <th>userImage</th>\n",
              "      <th>content</th>\n",
              "      <th>score</th>\n",
              "      <th>thumbsUpCount</th>\n",
              "      <th>reviewCreatedVersion</th>\n",
              "      <th>at</th>\n",
              "      <th>replyContent</th>\n",
              "      <th>repliedAt</th>\n",
              "      <th>sortOrder</th>\n",
              "      <th>appId</th>\n",
              "    </tr>\n",
              "  </thead>\n",
              "  <tbody>\n",
              "    <tr>\n",
              "      <th>0</th>\n",
              "      <td>Andrew Thomas</td>\n",
              "      <td>https://lh3.googleusercontent.com/a-/AOh14GiHd...</td>\n",
              "      <td>Update: After getting a response from the deve...</td>\n",
              "      <td>1</td>\n",
              "      <td>21</td>\n",
              "      <td>4.17.0.3</td>\n",
              "      <td>2020-04-05 22:25:57</td>\n",
              "      <td>According to our TOS, and the term you have ag...</td>\n",
              "      <td>2020-04-05 15:10:24</td>\n",
              "      <td>most_relevant</td>\n",
              "      <td>com.anydo</td>\n",
              "    </tr>\n",
              "    <tr>\n",
              "      <th>1</th>\n",
              "      <td>Craig Haines</td>\n",
              "      <td>https://lh3.googleusercontent.com/-hoe0kwSJgPQ...</td>\n",
              "      <td>Used it for a fair amount of time without any ...</td>\n",
              "      <td>1</td>\n",
              "      <td>11</td>\n",
              "      <td>4.17.0.3</td>\n",
              "      <td>2020-04-04 13:40:01</td>\n",
              "      <td>It sounds like you logged in with a different ...</td>\n",
              "      <td>2020-04-05 15:11:35</td>\n",
              "      <td>most_relevant</td>\n",
              "      <td>com.anydo</td>\n",
              "    </tr>\n",
              "    <tr>\n",
              "      <th>2</th>\n",
              "      <td>steven adkins</td>\n",
              "      <td>https://lh3.googleusercontent.com/a-/AOh14GiXw...</td>\n",
              "      <td>Your app sucks now!!!!! Used to be good but no...</td>\n",
              "      <td>1</td>\n",
              "      <td>17</td>\n",
              "      <td>4.17.0.3</td>\n",
              "      <td>2020-04-01 16:18:13</td>\n",
              "      <td>This sounds odd! We are not aware of any issue...</td>\n",
              "      <td>2020-04-02 16:05:56</td>\n",
              "      <td>most_relevant</td>\n",
              "      <td>com.anydo</td>\n",
              "    </tr>\n",
              "    <tr>\n",
              "      <th>3</th>\n",
              "      <td>Lars Panzerbjørn</td>\n",
              "      <td>https://lh3.googleusercontent.com/a-/AOh14Gg-h...</td>\n",
              "      <td>It seems OK, but very basic. Recurring tasks n...</td>\n",
              "      <td>1</td>\n",
              "      <td>192</td>\n",
              "      <td>4.17.0.2</td>\n",
              "      <td>2020-03-12 08:17:34</td>\n",
              "      <td>We do offer this option as part of the Advance...</td>\n",
              "      <td>2020-03-15 06:20:13</td>\n",
              "      <td>most_relevant</td>\n",
              "      <td>com.anydo</td>\n",
              "    </tr>\n",
              "    <tr>\n",
              "      <th>4</th>\n",
              "      <td>Scott Prewitt</td>\n",
              "      <td>https://lh3.googleusercontent.com/-K-X1-YsVd6U...</td>\n",
              "      <td>Absolutely worthless. This app runs a prohibit...</td>\n",
              "      <td>1</td>\n",
              "      <td>42</td>\n",
              "      <td>4.17.0.2</td>\n",
              "      <td>2020-03-14 17:41:01</td>\n",
              "      <td>We're sorry you feel this way! 90% of the app ...</td>\n",
              "      <td>2020-03-15 23:45:51</td>\n",
              "      <td>most_relevant</td>\n",
              "      <td>com.anydo</td>\n",
              "    </tr>\n",
              "  </tbody>\n",
              "</table>\n",
              "</div>\n",
              "      <button class=\"colab-df-convert\" onclick=\"convertToInteractive('df-24a8bde6-a2f6-4f0a-aaab-96f3c485e5d0')\"\n",
              "              title=\"Convert this dataframe to an interactive table.\"\n",
              "              style=\"display:none;\">\n",
              "        \n",
              "  <svg xmlns=\"http://www.w3.org/2000/svg\" height=\"24px\"viewBox=\"0 0 24 24\"\n",
              "       width=\"24px\">\n",
              "    <path d=\"M0 0h24v24H0V0z\" fill=\"none\"/>\n",
              "    <path d=\"M18.56 5.44l.94 2.06.94-2.06 2.06-.94-2.06-.94-.94-2.06-.94 2.06-2.06.94zm-11 1L8.5 8.5l.94-2.06 2.06-.94-2.06-.94L8.5 2.5l-.94 2.06-2.06.94zm10 10l.94 2.06.94-2.06 2.06-.94-2.06-.94-.94-2.06-.94 2.06-2.06.94z\"/><path d=\"M17.41 7.96l-1.37-1.37c-.4-.4-.92-.59-1.43-.59-.52 0-1.04.2-1.43.59L10.3 9.45l-7.72 7.72c-.78.78-.78 2.05 0 2.83L4 21.41c.39.39.9.59 1.41.59.51 0 1.02-.2 1.41-.59l7.78-7.78 2.81-2.81c.8-.78.8-2.07 0-2.86zM5.41 20L4 18.59l7.72-7.72 1.47 1.35L5.41 20z\"/>\n",
              "  </svg>\n",
              "      </button>\n",
              "      \n",
              "  <style>\n",
              "    .colab-df-container {\n",
              "      display:flex;\n",
              "      flex-wrap:wrap;\n",
              "      gap: 12px;\n",
              "    }\n",
              "\n",
              "    .colab-df-convert {\n",
              "      background-color: #E8F0FE;\n",
              "      border: none;\n",
              "      border-radius: 50%;\n",
              "      cursor: pointer;\n",
              "      display: none;\n",
              "      fill: #1967D2;\n",
              "      height: 32px;\n",
              "      padding: 0 0 0 0;\n",
              "      width: 32px;\n",
              "    }\n",
              "\n",
              "    .colab-df-convert:hover {\n",
              "      background-color: #E2EBFA;\n",
              "      box-shadow: 0px 1px 2px rgba(60, 64, 67, 0.3), 0px 1px 3px 1px rgba(60, 64, 67, 0.15);\n",
              "      fill: #174EA6;\n",
              "    }\n",
              "\n",
              "    [theme=dark] .colab-df-convert {\n",
              "      background-color: #3B4455;\n",
              "      fill: #D2E3FC;\n",
              "    }\n",
              "\n",
              "    [theme=dark] .colab-df-convert:hover {\n",
              "      background-color: #434B5C;\n",
              "      box-shadow: 0px 1px 3px 1px rgba(0, 0, 0, 0.15);\n",
              "      filter: drop-shadow(0px 1px 2px rgba(0, 0, 0, 0.3));\n",
              "      fill: #FFFFFF;\n",
              "    }\n",
              "  </style>\n",
              "\n",
              "      <script>\n",
              "        const buttonEl =\n",
              "          document.querySelector('#df-24a8bde6-a2f6-4f0a-aaab-96f3c485e5d0 button.colab-df-convert');\n",
              "        buttonEl.style.display =\n",
              "          google.colab.kernel.accessAllowed ? 'block' : 'none';\n",
              "\n",
              "        async function convertToInteractive(key) {\n",
              "          const element = document.querySelector('#df-24a8bde6-a2f6-4f0a-aaab-96f3c485e5d0');\n",
              "          const dataTable =\n",
              "            await google.colab.kernel.invokeFunction('convertToInteractive',\n",
              "                                                     [key], {});\n",
              "          if (!dataTable) return;\n",
              "\n",
              "          const docLinkHtml = 'Like what you see? Visit the ' +\n",
              "            '<a target=\"_blank\" href=https://colab.research.google.com/notebooks/data_table.ipynb>data table notebook</a>'\n",
              "            + ' to learn more about interactive tables.';\n",
              "          element.innerHTML = '';\n",
              "          dataTable['output_type'] = 'display_data';\n",
              "          await google.colab.output.renderOutput(dataTable, element);\n",
              "          const docLink = document.createElement('div');\n",
              "          docLink.innerHTML = docLinkHtml;\n",
              "          element.appendChild(docLink);\n",
              "        }\n",
              "      </script>\n",
              "    </div>\n",
              "  </div>\n",
              "  "
            ],
            "text/plain": [
              "           userName  ...      appId\n",
              "0     Andrew Thomas  ...  com.anydo\n",
              "1      Craig Haines  ...  com.anydo\n",
              "2     steven adkins  ...  com.anydo\n",
              "3  Lars Panzerbjørn  ...  com.anydo\n",
              "4     Scott Prewitt  ...  com.anydo\n",
              "\n",
              "[5 rows x 11 columns]"
            ]
          },
          "metadata": {},
          "execution_count": 36
        }
      ],
      "source": [
        "data = pd.read_csv(\"reviews.csv\",engine='python' ,encoding='utf-8' ,error_bad_lines=False)\n",
        "data.head()"
      ]
    },
    {
      "cell_type": "code",
      "execution_count": 37,
      "metadata": {
        "colab": {
          "base_uri": "https://localhost:8080/"
        },
        "id": "V8PCMq5YEt3B",
        "outputId": "08499084-7860-4e88-da65-1b715329a467"
      },
      "outputs": [
        {
          "output_type": "stream",
          "name": "stderr",
          "text": [
            "/usr/local/lib/python3.7/dist-packages/IPython/core/interactiveshell.py:2882: FutureWarning: The error_bad_lines argument has been deprecated and will be removed in a future version.\n",
            "\n",
            "\n",
            "  exec(code_obj, self.user_global_ns, self.user_ns)\n"
          ]
        },
        {
          "output_type": "stream",
          "name": "stdout",
          "text": [
            "                                                  review sentiment\n",
            "0      One of the other reviewers has mentioned that ...  positive\n",
            "1      A wonderful little production. <br /><br />The...  positive\n",
            "2      I thought this was a wonderful way to spend ti...  positive\n",
            "3      Basically there's a family where a little boy ...  negative\n",
            "4      Petter Mattei's \"Love in the Time of Money\" is...  positive\n",
            "...                                                  ...       ...\n",
            "22907  Set in Bam Margera's hometown of Westchester P...  positive\n",
            "22908  To understand \"Crash Course\" in the right cont...  positive\n",
            "22909  Shaggy, friendly yet frustrating film has the ...  negative\n",
            "22910  I'm not really sure where to begin. From start...  negative\n",
            "22911  There are few uplifting things to say about th...  negative\n",
            "\n",
            "[22912 rows x 2 columns]\n"
          ]
        },
        {
          "output_type": "stream",
          "name": "stderr",
          "text": [
            "Skipping line 22914: unexpected end of data\n"
          ]
        }
      ],
      "source": [
        "#Preview dataset\n",
        "\n",
        "data = pd.read_csv('/content/IMDB Dataset.csv' , engine='python' ,encoding='utf-8' ,error_bad_lines=False)\n",
        "print(data)"
      ]
    },
    {
      "cell_type": "code",
      "execution_count": 38,
      "metadata": {
        "colab": {
          "base_uri": "https://localhost:8080/",
          "height": 300
        },
        "id": "k7djo36idJPt",
        "outputId": "0d110bf1-b1ec-4792-f071-cc2c07fcf748"
      },
      "outputs": [
        {
          "output_type": "execute_result",
          "data": {
            "text/plain": [
              "<matplotlib.axes._subplots.AxesSubplot at 0x7f6750099b90>"
            ]
          },
          "metadata": {},
          "execution_count": 38
        },
        {
          "output_type": "display_data",
          "data": {
            "image/png": "[encoded data removed]",
            "text/plain": [
              "<Figure size 432x288 with 1 Axes>"
            ]
          },
          "metadata": {
            "needs_background": "light"
          }
        }
      ],
      "source": [
        "#the distribution of positive and negative sentiments in our dataset\n",
        "import seaborn as sns\n",
        "\n",
        "sns.countplot(x='sentiment', data=data)"
      ]
    },
    {
      "cell_type": "markdown",
      "metadata": {
        "id": "3FSUVSPzdnbH"
      },
      "source": [
        "# Data Preprocessing\n"
      ]
    },
    {
      "cell_type": "code",
      "execution_count": 39,
      "metadata": {
        "colab": {
          "base_uri": "https://localhost:8080/"
        },
        "id": "ifsuAZ6-dX4S",
        "outputId": "8efb40c6-6903-4ece-e583-4cbe8ec0462e"
      },
      "outputs": [
        {
          "output_type": "execute_result",
          "data": {
            "text/plain": [
              "{'a',\n",
              " 'about',\n",
              " 'above',\n",
              " 'after',\n",
              " 'again',\n",
              " 'against',\n",
              " 'ain',\n",
              " 'all',\n",
              " 'am',\n",
              " 'an',\n",
              " 'and',\n",
              " 'any',\n",
              " 'are',\n",
              " 'aren',\n",
              " \"aren't\",\n",
              " 'as',\n",
              " 'at',\n",
              " 'be',\n",
              " 'because',\n",
              " 'been',\n",
              " 'before',\n",
              " 'being',\n",
              " 'below',\n",
              " 'between',\n",
              " 'both',\n",
              " 'but',\n",
              " 'by',\n",
              " 'can',\n",
              " 'couldn',\n",
              " \"couldn't\",\n",
              " 'd',\n",
              " 'did',\n",
              " 'didn',\n",
              " \"didn't\",\n",
              " 'do',\n",
              " 'does',\n",
              " 'doesn',\n",
              " \"doesn't\",\n",
              " 'doing',\n",
              " 'don',\n",
              " \"don't\",\n",
              " 'down',\n",
              " 'during',\n",
              " 'each',\n",
              " 'few',\n",
              " 'for',\n",
              " 'from',\n",
              " 'further',\n",
              " 'had',\n",
              " 'hadn',\n",
              " \"hadn't\",\n",
              " 'has',\n",
              " 'hasn',\n",
              " \"hasn't\",\n",
              " 'have',\n",
              " 'haven',\n",
              " \"haven't\",\n",
              " 'having',\n",
              " 'he',\n",
              " 'her',\n",
              " 'here',\n",
              " 'hers',\n",
              " 'herself',\n",
              " 'him',\n",
              " 'himself',\n",
              " 'his',\n",
              " 'how',\n",
              " 'i',\n",
              " 'if',\n",
              " 'in',\n",
              " 'into',\n",
              " 'is',\n",
              " 'isn',\n",
              " \"isn't\",\n",
              " 'it',\n",
              " \"it's\",\n",
              " 'its',\n",
              " 'itself',\n",
              " 'just',\n",
              " 'll',\n",
              " 'm',\n",
              " 'ma',\n",
              " 'me',\n",
              " 'mightn',\n",
              " \"mightn't\",\n",
              " 'more',\n",
              " 'most',\n",
              " 'mustn',\n",
              " \"mustn't\",\n",
              " 'my',\n",
              " 'myself',\n",
              " 'needn',\n",
              " \"needn't\",\n",
              " 'no',\n",
              " 'nor',\n",
              " 'not',\n",
              " 'now',\n",
              " 'o',\n",
              " 'of',\n",
              " 'off',\n",
              " 'on',\n",
              " 'once',\n",
              " 'only',\n",
              " 'or',\n",
              " 'other',\n",
              " 'our',\n",
              " 'ours',\n",
              " 'ourselves',\n",
              " 'out',\n",
              " 'over',\n",
              " 'own',\n",
              " 're',\n",
              " 's',\n",
              " 'same',\n",
              " 'shan',\n",
              " \"shan't\",\n",
              " 'she',\n",
              " \"she's\",\n",
              " 'should',\n",
              " \"should've\",\n",
              " 'shouldn',\n",
              " \"shouldn't\",\n",
              " 'so',\n",
              " 'some',\n",
              " 'such',\n",
              " 't',\n",
              " 'than',\n",
              " 'that',\n",
              " \"that'll\",\n",
              " 'the',\n",
              " 'their',\n",
              " 'theirs',\n",
              " 'them',\n",
              " 'themselves',\n",
              " 'then',\n",
              " 'there',\n",
              " 'these',\n",
              " 'they',\n",
              " 'this',\n",
              " 'those',\n",
              " 'through',\n",
              " 'to',\n",
              " 'too',\n",
              " 'under',\n",
              " 'until',\n",
              " 'up',\n",
              " 've',\n",
              " 'very',\n",
              " 'was',\n",
              " 'wasn',\n",
              " \"wasn't\",\n",
              " 'we',\n",
              " 'were',\n",
              " 'weren',\n",
              " \"weren't\",\n",
              " 'what',\n",
              " 'when',\n",
              " 'where',\n",
              " 'which',\n",
              " 'while',\n",
              " 'who',\n",
              " 'whom',\n",
              " 'why',\n",
              " 'will',\n",
              " 'with',\n",
              " 'won',\n",
              " \"won't\",\n",
              " 'wouldn',\n",
              " \"wouldn't\",\n",
              " 'y',\n",
              " 'you',\n",
              " \"you'd\",\n",
              " \"you'll\",\n",
              " \"you're\",\n",
              " \"you've\",\n",
              " 'your',\n",
              " 'yours',\n",
              " 'yourself',\n",
              " 'yourselves'}"
            ]
          },
          "metadata": {},
          "execution_count": 39
        }
      ],
      "source": [
        "#Declaring the english stop words\n",
        "english_stops = set(stopwords.words('english'))\n",
        "english_stops"
      ]
    },
    {
      "cell_type": "code",
      "execution_count": 40,
      "metadata": {
        "colab": {
          "base_uri": "https://localhost:8080/"
        },
        "id": "N-PvAu9jflSG",
        "outputId": "173c0314-27f1-417e-9cd5-9486b13bfd20"
      },
      "outputs": [
        {
          "output_type": "stream",
          "name": "stdout",
          "text": [
            "0        [one, reviewers, mentioned, watching, oz, epis...\n",
            "1        [a, wonderful, little, production, the, filmin...\n",
            "2        [i, thought, wonderful, way, spend, time, hot,...\n",
            "3        [basically, family, little, boy, jake, thinks,...\n",
            "4        [petter, mattei, love, time, money, visually, ...\n",
            "                               ...                        \n",
            "22907    [set, bam, margera, hometown, westchester, pa,...\n",
            "22908    [to, understand, crash, course, right, context...\n",
            "22909    [shaggy, friendly, yet, frustrating, film, old...\n",
            "22910    [i, really, sure, begin, from, start, finish, ...\n",
            "22911    [there, uplifting, things, say, i, mention, ma...\n",
            "Name: review, Length: 22912, dtype: object \n",
            "\n",
            "Sentiment\n",
            "0        1\n",
            "1        1\n",
            "2        1\n",
            "3        0\n",
            "4        1\n",
            "        ..\n",
            "22907    1\n",
            "22908    1\n",
            "22909    0\n",
            "22910    0\n",
            "22911    0\n",
            "Name: sentiment, Length: 22912, dtype: int64\n"
          ]
        }
      ],
      "source": [
        "def load_dataset(df):\n",
        "    x_data = df['review']       # Reviews/Input\n",
        "    y_data = df['sentiment']    # Sentiment/Output\n",
        "\n",
        "    # PRE-PROCESS REVIEW\n",
        "    x_data = x_data.replace({'<.*?>': ''}, regex = True)          # remove html tag\n",
        "    x_data = x_data.replace({'[^A-Za-z]': ' '}, regex = True)     # remove non alphabet\n",
        "    x_data = x_data.apply(lambda review: [w for w in review.split() if w not in english_stops])  # remove stop words\n",
        "    x_data = x_data.apply(lambda review: [w.lower() for w in review])   # lower case\n",
        "    \n",
        "    # ENCODE SENTIMENT -> 0 & 1\n",
        "    y_data = y_data.replace('positive', 1)\n",
        "    y_data = y_data.replace('negative', 0)\n",
        "\n",
        "    return x_data, y_data\n",
        "\n",
        "x_data, y_data = load_dataset(data)\n",
        "print(x_data, '\\n')\n",
        "print('Sentiment')\n",
        "print(y_data)"
      ]
    },
    {
      "cell_type": "markdown",
      "metadata": {
        "id": "bjuUcilqgHXu"
      },
      "source": [
        "\n",
        "# **Split Dataset**\n"
      ]
    },
    {
      "cell_type": "code",
      "execution_count": 41,
      "metadata": {
        "id": "Qve6QD0qCoRs"
      },
      "outputs": [],
      "source": [
        "x_train, x_test, y_train, y_test = train_test_split(x_data, y_data, test_size = 0.2)"
      ]
    },
    {
      "cell_type": "code",
      "execution_count": 42,
      "metadata": {
        "colab": {
          "base_uri": "https://localhost:8080/"
        },
        "id": "6TPj1_mCgEFl",
        "outputId": "5a15d44e-e648-432d-98cb-c7c0d2978474"
      },
      "outputs": [
        {
          "output_type": "stream",
          "name": "stdout",
          "text": [
            "Train Set\n",
            "4147     [this, movie, gets, better, time, i, see, ther...\n",
            "6973     [ed, harris, work, film, usual, standard, exce...\n",
            "12084    [despite, new, york, setting, new, york, chara...\n",
            "20264    [i, barely, find, words, express, utterly, utt...\n",
            "3202     [despite, title, may, imply, pigs, is, pigs, s...\n",
            "                               ...                        \n",
            "21030    [watch, on, the, rhine, started, broadway, pla...\n",
            "7447     [i, got, dvd, hardware, wars, shiny, new, pack...\n",
            "9741     [jim, brown, stars, produces, tale, set, phili...\n",
            "5603     [first, like, say, know, share, star, wars, fa...\n",
            "9608     [a, must, see, film, great, dialogues, great, ...\n",
            "Name: review, Length: 18329, dtype: object \n",
            "\n",
            "4258     [astonishing, screams, la, times, front, dvd, ...\n",
            "11570    [i, waiting, since, last, october, see, film, ...\n",
            "17493    [this, italian, movie, basically, soap, opera,...\n",
            "12700    [typical, steven, seagal, fare, crap, the, plo...\n",
            "7807     [so, reason, is, sort, vendetta, awesome, show...\n",
            "                               ...                        \n",
            "10307    [i, keep, waiting, peter, fonda, start, acting...\n",
            "2032     [even, could, get, past, idea, boring, charact...\n",
            "21713    [mixing, small, town, sheriffs, high, school, ...\n",
            "9074     [stanley, stupid, tom, arnold, wife, joan, lik...\n",
            "20471    [while, exactly, offensive, version, the, peri...\n",
            "Name: review, Length: 4583, dtype: object \n",
            "\n",
            "Test Set\n",
            "4147     1\n",
            "6973     1\n",
            "12084    1\n",
            "20264    0\n",
            "3202     1\n",
            "        ..\n",
            "21030    1\n",
            "7447     1\n",
            "9741     0\n",
            "5603     1\n",
            "9608     1\n",
            "Name: sentiment, Length: 18329, dtype: int64 \n",
            "\n",
            "4258     0\n",
            "11570    1\n",
            "17493    0\n",
            "12700    0\n",
            "7807     1\n",
            "        ..\n",
            "10307    0\n",
            "2032     0\n",
            "21713    0\n",
            "9074     0\n",
            "20471    0\n",
            "Name: sentiment, Length: 4583, dtype: int64\n"
          ]
        }
      ],
      "source": [
        "x_train, x_test, y_train, y_test = train_test_split(x_data, y_data, test_size = 0.2)\n",
        "\n",
        "print('Train Set')\n",
        "print(x_train, '\\n')\n",
        "print(x_test, '\\n')\n",
        "print('Test Set')\n",
        "print(y_train, '\\n')\n",
        "print(y_test)"
      ]
    },
    {
      "cell_type": "code",
      "execution_count": 43,
      "metadata": {
        "id": "LtWifPh-nLHa"
      },
      "outputs": [],
      "source": [
        "#Function for getting the maximum review length, by calculating the mean of all the reviews length\n",
        "def get_max_length():\n",
        "    review_length = []\n",
        "    for review in x_train:\n",
        "        review_length.append(len(review))\n",
        "\n",
        "    return int(np.ceil(np.mean(review_length)))"
      ]
    },
    {
      "cell_type": "markdown",
      "metadata": {
        "id": "4RsjPce3nVAv"
      },
      "source": [
        "# Tokenize and Pad/Truncate Reviews"
      ]
    },
    {
      "cell_type": "code",
      "execution_count": 44,
      "metadata": {
        "colab": {
          "base_uri": "https://localhost:8080/"
        },
        "id": "T6idR1tznRjN",
        "outputId": "294cc519-a253-4812-e435-8b10d0b2764a"
      },
      "outputs": [
        {
          "output_type": "stream",
          "name": "stdout",
          "text": [
            "Encoded X Train\n",
            " [[   8    3  119 ...  380  239 2684]\n",
            " [1224 2314   73 ...    0    0    0]\n",
            " [ 378   82  732 ...    0    0    0]\n",
            " ...\n",
            " [1025 1710  311 ...    0    0    0]\n",
            " [  23    6   58 ...  459   59  739]\n",
            " [  39  111   14 ...    0    0    0]] \n",
            "\n",
            "Encoded X Test\n",
            " [[ 4453  4164   943 ...   433   367   602]\n",
            " [    1   947   136 ...     0     0     0]\n",
            " [    8   900     3 ...     0     0     0]\n",
            " ...\n",
            " [ 5357   292   403 ...     0     0     0]\n",
            " [ 3181   270   718 ...    97   162  1520]\n",
            " [  374   518  2652 ... 39465   256   392]] \n",
            "\n",
            "Maximum review length:  131\n"
          ]
        }
      ],
      "source": [
        "# ENCODE REVIEW\n",
        "token = Tokenizer(lower=False)    # no need lower, because already lowered the data in load_data()\n",
        "token.fit_on_texts(x_train)\n",
        "x_train = token.texts_to_sequences(x_train)\n",
        "x_test = token.texts_to_sequences(x_test)\n",
        "\n",
        "max_length = get_max_length()\n",
        "\n",
        "x_train = pad_sequences(x_train, maxlen=max_length, padding='post', truncating='post')\n",
        "x_test = pad_sequences(x_test, maxlen=max_length, padding='post', truncating='post')\n",
        "\n",
        "total_words = len(token.word_index) + 1   # add 1 because of 0 padding\n",
        "\n",
        "print('Encoded X Train\\n', x_train, '\\n')\n",
        "print('Encoded X Test\\n', x_test, '\\n')\n",
        "print('Maximum review length: ', max_length)"
      ]
    },
    {
      "cell_type": "markdown",
      "metadata": {
        "id": "ou_PNaKsaqmc"
      },
      "source": [
        "# Build Architecture/Model "
      ]
    },
    {
      "cell_type": "code",
      "execution_count": 45,
      "metadata": {
        "colab": {
          "base_uri": "https://localhost:8080/"
        },
        "id": "Cq3clDkTauJM",
        "outputId": "4e344513-c1fc-48d6-9db8-e89b1e342120"
      },
      "outputs": [
        {
          "output_type": "stream",
          "name": "stdout",
          "text": [
            "Model: \"sequential_2\"\n",
            "_________________________________________________________________\n",
            " Layer (type)                Output Shape              Param #   \n",
            "=================================================================\n",
            " embedding_2 (Embedding)     (None, 131, 32)           2141472   \n",
            "                                                                 \n",
            " lstm_2 (LSTM)               (None, 64)                24832     \n",
            "                                                                 \n",
            " dense_2 (Dense)             (None, 1)                 65        \n",
            "                                                                 \n",
            "=================================================================\n",
            "Total params: 2,166,369\n",
            "Trainable params: 2,166,369\n",
            "Non-trainable params: 0\n",
            "_________________________________________________________________\n",
            "None\n"
          ]
        }
      ],
      "source": [
        "# ARCHITECTURE\n",
        "from keras import metrics\n",
        "from tensorflow.keras.models import Sequential     # the model\n",
        "from tensorflow.keras.layers import Embedding, LSTM, Dense \n",
        "EMBED_DIM = 32\n",
        "lstm_out = 64\n",
        "model = Sequential()\n",
        "model.add(Embedding(total_words, EMBED_DIM, input_length = max_length))\n",
        "model.add(LSTM(lstm_out))\n",
        "model.add(Dense(1,activation='sigmoid'))\n",
        "model.compile(loss='binary_crossentropy',\n",
        "              optimizer='adam', \n",
        "              metrics=['accuracy', metrics.Recall(),metrics.Precision()]) \n",
        "print(model.summary())\n"
      ]
    },
    {
      "cell_type": "code",
      "execution_count": 46,
      "metadata": {
        "id": "gMiJN6BR5EUp",
        "colab": {
          "base_uri": "https://localhost:8080/",
          "height": 422
        },
        "outputId": "5d730085-5090-4634-f3fb-07e589d4c132"
      },
      "outputs": [
        {
          "output_type": "execute_result",
          "data": {
            "image/png": "[encoded data removed]",
            "text/plain": [
              "<IPython.core.display.Image object>"
            ]
          },
          "metadata": {},
          "execution_count": 46
        }
      ],
      "source": [
        "from keras.utils.vis_utils import plot_model\n",
        "plot_model(model, to_file='model_plot.png', show_shapes=True, show_layer_names=True)"
      ]
    },
    {
      "cell_type": "markdown",
      "metadata": {
        "id": "oIntTHZTa9Za"
      },
      "source": [
        "# Training"
      ]
    },
    {
      "cell_type": "code",
      "execution_count": 47,
      "metadata": {
        "id": "x53Z2vx8a7ih"
      },
      "outputs": [],
      "source": [
        "checkpoint = ModelCheckpoint(\n",
        "    'models/LSTM.h5',\n",
        "    monitor='accuracy',\n",
        "    save_best_only=True,\n",
        "    verbose=1\n",
        ")"
      ]
    },
    {
      "cell_type": "code",
      "execution_count": 48,
      "metadata": {
        "colab": {
          "base_uri": "https://localhost:8080/"
        },
        "id": "zLbJwMVdbP7F",
        "outputId": "af310519-0426-44a8-96b9-413b3a5b82b3"
      },
      "outputs": [
        {
          "output_type": "stream",
          "name": "stdout",
          "text": [
            "Epoch 1/10\n",
            "572/573 [============================>.] - ETA: 0s - loss: 0.6896 - accuracy: 0.5202 - recall_1: 0.7612 - precision_1: 0.5115\n",
            "Epoch 1: accuracy improved from -inf to 0.52021, saving model to models/LSTM.h5\n",
            "573/573 [==============================] - 28s 38ms/step - loss: 0.6896 - accuracy: 0.5202 - recall_1: 0.7604 - precision_1: 0.5115 - val_loss: 0.6894 - val_accuracy: 0.5664 - val_recall_1: 0.2198 - val_precision_1: 0.7135\n",
            "Epoch 2/10\n",
            "573/573 [==============================] - ETA: 0s - loss: 0.6424 - accuracy: 0.6377 - recall_1: 0.6183 - precision_1: 0.6401\n",
            "Epoch 2: accuracy improved from 0.52021 to 0.63768, saving model to models/LSTM.h5\n",
            "573/573 [==============================] - 21s 36ms/step - loss: 0.6424 - accuracy: 0.6377 - recall_1: 0.6183 - precision_1: 0.6401 - val_loss: 0.6668 - val_accuracy: 0.5767 - val_recall_1: 0.8142 - val_precision_1: 0.5515\n",
            "Epoch 3/10\n",
            "573/573 [==============================] - ETA: 0s - loss: 0.3744 - accuracy: 0.8442 - recall_1: 0.8555 - precision_1: 0.8350\n",
            "Epoch 3: accuracy improved from 0.63768 to 0.84424, saving model to models/LSTM.h5\n",
            "573/573 [==============================] - 20s 36ms/step - loss: 0.3744 - accuracy: 0.8442 - recall_1: 0.8555 - precision_1: 0.8350 - val_loss: 0.4573 - val_accuracy: 0.8433 - val_recall_1: 0.7552 - val_precision_1: 0.9162\n",
            "Epoch 4/10\n",
            "573/573 [==============================] - ETA: 0s - loss: 0.1815 - accuracy: 0.9400 - recall_1: 0.9434 - precision_1: 0.9363\n",
            "Epoch 4: accuracy improved from 0.84424 to 0.94004, saving model to models/LSTM.h5\n",
            "573/573 [==============================] - 21s 37ms/step - loss: 0.1815 - accuracy: 0.9400 - recall_1: 0.9434 - precision_1: 0.9363 - val_loss: 0.3561 - val_accuracy: 0.8638 - val_recall_1: 0.8628 - val_precision_1: 0.8643\n",
            "Epoch 5/10\n",
            "573/573 [==============================] - ETA: 0s - loss: 0.1188 - accuracy: 0.9661 - recall_1: 0.9667 - precision_1: 0.9651\n",
            "Epoch 5: accuracy improved from 0.94004 to 0.96612, saving model to models/LSTM.h5\n",
            "573/573 [==============================] - 21s 37ms/step - loss: 0.1188 - accuracy: 0.9661 - recall_1: 0.9667 - precision_1: 0.9651 - val_loss: 0.4237 - val_accuracy: 0.8621 - val_recall_1: 0.8663 - val_precision_1: 0.8588\n",
            "Epoch 6/10\n",
            "573/573 [==============================] - ETA: 0s - loss: 0.1051 - accuracy: 0.9694 - recall_1: 0.9773 - precision_1: 0.9617\n",
            "Epoch 6: accuracy improved from 0.96612 to 0.96939, saving model to models/LSTM.h5\n",
            "573/573 [==============================] - 20s 36ms/step - loss: 0.1051 - accuracy: 0.9694 - recall_1: 0.9773 - precision_1: 0.9617 - val_loss: 0.4015 - val_accuracy: 0.8374 - val_recall_1: 0.8781 - val_precision_1: 0.8117\n",
            "Epoch 7/10\n",
            "573/573 [==============================] - ETA: 0s - loss: 0.0833 - accuracy: 0.9786 - recall_1: 0.9773 - precision_1: 0.9796\n",
            "Epoch 7: accuracy improved from 0.96939 to 0.97861, saving model to models/LSTM.h5\n",
            "573/573 [==============================] - 21s 36ms/step - loss: 0.0833 - accuracy: 0.9786 - recall_1: 0.9773 - precision_1: 0.9796 - val_loss: 0.4641 - val_accuracy: 0.8335 - val_recall_1: 0.7587 - val_precision_1: 0.8916\n",
            "Epoch 8/10\n",
            "573/573 [==============================] - ETA: 0s - loss: 0.1596 - accuracy: 0.9513 - recall_1: 0.9363 - precision_1: 0.9646\n",
            "Epoch 8: accuracy did not improve from 0.97861\n",
            "573/573 [==============================] - 20s 36ms/step - loss: 0.1596 - accuracy: 0.9513 - recall_1: 0.9363 - precision_1: 0.9646 - val_loss: 0.4920 - val_accuracy: 0.7814 - val_recall_1: 0.6399 - val_precision_1: 0.8916\n",
            "Epoch 9/10\n",
            "573/573 [==============================] - ETA: 0s - loss: 0.3974 - accuracy: 0.8301 - recall_1: 0.7212 - precision_1: 0.9195\n",
            "Epoch 9: accuracy did not improve from 0.97861\n",
            "573/573 [==============================] - 20s 36ms/step - loss: 0.3974 - accuracy: 0.8301 - recall_1: 0.7212 - precision_1: 0.9195 - val_loss: 0.5703 - val_accuracy: 0.7787 - val_recall_1: 0.7255 - val_precision_1: 0.8113\n",
            "Epoch 10/10\n",
            "573/573 [==============================] - ETA: 0s - loss: 0.4085 - accuracy: 0.8162 - recall_1: 0.6543 - precision_1: 0.9644\n",
            "Epoch 10: accuracy did not improve from 0.97861\n",
            "573/573 [==============================] - 20s 36ms/step - loss: 0.4085 - accuracy: 0.8162 - recall_1: 0.6543 - precision_1: 0.9644 - val_loss: 0.6206 - val_accuracy: 0.6600 - val_recall_1: 0.4108 - val_precision_1: 0.8174\n"
          ]
        }
      ],
      "source": [
        "history = model.fit(x_train ,\n",
        "                    y_train, \n",
        "                    validation_data=(x_test, y_test), \n",
        "                    epochs=10, \n",
        "                    batch_size=32, \n",
        "                    callbacks=[checkpoint])"
      ]
    },
    {
      "cell_type": "code",
      "execution_count": 49,
      "metadata": {
        "colab": {
          "base_uri": "https://localhost:8080/"
        },
        "id": "kQHQb2ARh2m0",
        "outputId": "334eb807-d1eb-4ad5-9936-e159792e62cd"
      },
      "outputs": [
        {
          "output_type": "stream",
          "name": "stdout",
          "text": [
            "Accuracy: 66.00%\n"
          ]
        }
      ],
      "source": [
        "socres = model.evaluate(x_test , y_test , verbose=0)\n",
        "\n",
        "print(\"Accuracy: %.2f%%\" % (socres[1]*100))"
      ]
    },
    {
      "cell_type": "code",
      "execution_count": 50,
      "metadata": {
        "colab": {
          "base_uri": "https://localhost:8080/"
        },
        "id": "BP3JGch8Km1t",
        "outputId": "d74e1ede-3178-4577-ed76-d1f1ffb8fb8d"
      },
      "outputs": [
        {
          "output_type": "stream",
          "name": "stdout",
          "text": [
            "573/573 [==============================] - 8s 14ms/step - loss: 0.4888 - accuracy: 0.7608 - recall_1: 0.5393 - precision_1: 0.9628\n",
            "Test set\n",
            "  Loss: 0.489\n",
            "  Accuracy: 0.7608\n"
          ]
        }
      ],
      "source": [
        "accr = model.evaluate(x_train, y_train)\n",
        "print('Test set\\n  Loss: {:0.3f}\\n  Accuracy: {:0.4f}'.format(accr[0],accr[1]))"
      ]
    },
    {
      "cell_type": "code",
      "execution_count": 51,
      "metadata": {
        "colab": {
          "base_uri": "https://localhost:8080/",
          "height": 295
        },
        "id": "HIwsY2bTKh-6",
        "outputId": "aa7cf448-e42f-49c1-8931-6543664fe634"
      },
      "outputs": [
        {
          "output_type": "display_data",
          "data": {
            "image/png": "[encoded data removed]",
            "text/plain": [
              "<Figure size 432x288 with 1 Axes>"
            ]
          },
          "metadata": {
            "needs_background": "light"
          }
        }
      ],
      "source": [
        "from matplotlib import pyplot as plt\n",
        "plt.title('Model Loss')\n",
        "plt.plot(history.history['loss'])\n",
        "plt.plot(history.history['val_loss'])\n",
        "plt.ylabel('loss')\n",
        "plt.xlabel('Epoch')\n",
        "plt.legend(['Train', 'Test'], loc='upper left')\n",
        "plt.show();"
      ]
    },
    {
      "cell_type": "code",
      "execution_count": 52,
      "metadata": {
        "colab": {
          "base_uri": "https://localhost:8080/",
          "height": 295
        },
        "id": "sCFn37-wKvVq",
        "outputId": "918d25e1-dbed-4a26-fd55-ec8ec08f1b6d"
      },
      "outputs": [
        {
          "output_type": "display_data",
          "data": {
            "image/png": "[encoded data removed]",
            "text/plain": [
              "<Figure size 432x288 with 1 Axes>"
            ]
          },
          "metadata": {
            "needs_background": "light"
          }
        }
      ],
      "source": [
        "plt.plot(history.history['accuracy'])\n",
        "plt.plot(history.history['val_accuracy'])\n",
        "plt.title('Model accuracy')\n",
        "plt.ylabel('Accuracy')\n",
        "plt.xlabel('Epoch')\n",
        "plt.legend(['Train', 'Test'], loc='upper left')\n",
        "plt.show()"
      ]
    },
    {
      "cell_type": "code",
      "execution_count": 54,
      "metadata": {
        "colab": {
          "base_uri": "https://localhost:8080/",
          "height": 295
        },
        "id": "Y9IZvmIIuc7h",
        "outputId": "c85d0f6d-99a2-42db-e360-b450aab45546"
      },
      "outputs": [
        {
          "output_type": "display_data",
          "data": {
            "image/png": "[encoded data removed]",
            "text/plain": [
              "<Figure size 432x288 with 1 Axes>"
            ]
          },
          "metadata": {
            "needs_background": "light"
          }
        }
      ],
      "source": [
        "plt.plot(history.history['recall_1'])\n",
        "plt.plot(history.history['val_recall_1'])\n",
        "plt.title('Model Recall')\n",
        "plt.ylabel('Recall')\n",
        "plt.xlabel('Epoch')\n",
        "plt.legend(['Train', 'Test'], loc='upper left')\n",
        "plt.show()"
      ]
    },
    {
      "cell_type": "code",
      "execution_count": 55,
      "metadata": {
        "colab": {
          "base_uri": "https://localhost:8080/",
          "height": 295
        },
        "id": "AsRZPBYSu7NQ",
        "outputId": "e21d09dd-7325-4a1a-bbdb-f4edd02e8fe2"
      },
      "outputs": [
        {
          "output_type": "display_data",
          "data": {
            "image/png": "[encoded data removed]",
            "text/plain": [
              "<Figure size 432x288 with 1 Axes>"
            ]
          },
          "metadata": {
            "needs_background": "light"
          }
        }
      ],
      "source": [
        "plt.plot(history.history['precision_1'])\n",
        "plt.plot(history.history['val_precision_1'])\n",
        "plt.title('Model Precision')\n",
        "plt.ylabel('Precision')\n",
        "plt.xlabel('Epoch')\n",
        "plt.legend(['Train', 'Test'], loc='upper left')\n",
        "plt.show()"
      ]
    },
    {
      "cell_type": "code",
      "execution_count": 56,
      "metadata": {
        "id": "2jiCGewHt0Sq",
        "colab": {
          "base_uri": "https://localhost:8080/"
        },
        "outputId": "f85bb3b7-72f1-487f-e05d-d9f67b7b03b2"
      },
      "outputs": [
        {
          "output_type": "stream",
          "name": "stdout",
          "text": [
            "Train accuracy: 0.7607616345681707\n",
            "Test accuracy 0.660048003491163\n"
          ]
        }
      ],
      "source": [
        "predictions_nn_train = model.predict(x_train)\n",
        "predictions_nn_test = model.predict(x_test)\n",
        "for i in range(len(predictions_nn_train)):\n",
        "    if predictions_nn_train[i][0] < 0.5:\n",
        "        predictions_nn_train[i][0] = 0\n",
        "    else:\n",
        "        predictions_nn_train[i][0] = 1\n",
        "        \n",
        "for i in range(len(predictions_nn_test)):\n",
        "    if predictions_nn_test[i][0] < 0.5:\n",
        "        predictions_nn_test[i][0] = 0\n",
        "    else:\n",
        "        predictions_nn_test[i][0] = 1\n",
        "print('Train accuracy:', accuracy_score(y_train, predictions_nn_train))\n",
        "print('Test accuracy', accuracy_score(y_test, predictions_nn_test))"
      ]
    },
    {
      "cell_type": "code",
      "execution_count": 57,
      "metadata": {
        "id": "Y7QtnEgTiMxD"
      },
      "outputs": [],
      "source": [
        "# evaluate the model\n",
        "train_acc = model.evaluate(x_train, y_train, verbose=0)\n",
        "test_acc = model.evaluate(x_test , y_test, verbose=0)"
      ]
    },
    {
      "cell_type": "code",
      "execution_count": 59,
      "metadata": {
        "id": "qaUdKDKQiTh_",
        "colab": {
          "base_uri": "https://localhost:8080/",
          "height": 299
        },
        "outputId": "1ac461d6-4ce2-4392-a7c1-22ee5b2931a1"
      },
      "outputs": [
        {
          "output_type": "stream",
          "name": "stdout",
          "text": [
            "\n"
          ]
        },
        {
          "output_type": "display_data",
          "data": {
            "image/png": "[encoded data removed]",
            "text/plain": [
              "<Figure size 432x288 with 2 Axes>"
            ]
          },
          "metadata": {
            "needs_background": "light"
          }
        }
      ],
      "source": [
        "from matplotlib import pyplot\n",
        "\n",
        "# plot loss during training\n",
        "pyplot.subplot(211)\n",
        "pyplot.title('Loss')\n",
        "pyplot.plot(history.history['loss'], label='train')\n",
        "pyplot.plot(history.history['val_loss'], label='test')\n",
        "pyplot.legend()\n",
        "# plot accuracy during training\n",
        "\n",
        "print('')\n",
        "pyplot.subplot(212)\n",
        "pyplot.title('Accuracy')\n",
        "pyplot.plot(history.history['accuracy'], label='train')\n",
        "pyplot.plot(history.history['val_accuracy'], label='test')\n",
        "pyplot.legend()\n",
        "pyplot.show()"
      ]
    },
    {
      "cell_type": "code",
      "execution_count": 60,
      "metadata": {
        "id": "7kMr74oYjkxT",
        "colab": {
          "base_uri": "https://localhost:8080/",
          "height": 354
        },
        "outputId": "119464d8-2aef-4f6e-8ff5-f331b90982a0"
      },
      "outputs": [
        {
          "output_type": "execute_result",
          "data": {
            "text/plain": [
              "<matplotlib.legend.Legend at 0x7f66d41ac450>"
            ]
          },
          "metadata": {},
          "execution_count": 60
        },
        {
          "output_type": "display_data",
          "data": {
            "image/png": "[encoded data removed]",
            "text/plain": [
              "<Figure size 864x360 with 2 Axes>"
            ]
          },
          "metadata": {
            "needs_background": "light"
          }
        }
      ],
      "source": [
        "import matplotlib.pyplot as plt\n",
        "acc = history.history['accuracy']\n",
        "val_acc = history.history['val_accuracy']\n",
        "loss = history.history['loss']\n",
        "val_loss = history.history['val_loss']\n",
        "x = range(1, len(acc) + 1)\n",
        "\n",
        "plt.figure(figsize=(12, 5))\n",
        "plt.subplot(1, 2, 1)\n",
        "plt.plot(x, acc, 'b', label='Training acc')\n",
        "plt.plot(x, val_acc, 'r', label='Validation acc')\n",
        "plt.title('Training and validation accuracy')\n",
        "plt.legend()\n",
        "plt.subplot(1, 2, 2)\n",
        "plt.plot(x, loss, 'b', label='Training loss')\n",
        "plt.plot(x, val_loss, 'r', label='Validation loss')\n",
        "plt.title('Training and validation loss')\n",
        "plt.legend()"
      ]
    },
    {
      "cell_type": "markdown",
      "metadata": {
        "id": "TwXDyX9rZ0-p"
      },
      "source": [
        "# **TEST BILSTM**"
      ]
    },
    {
      "cell_type": "code",
      "execution_count": 62,
      "metadata": {
        "id": "L0OvCuS7WEnS"
      },
      "outputs": [],
      "source": [
        "from keras.layers import Dense, Dropout, Embedding, LSTM, Bidirectional\n",
        "model2 = Sequential()\n",
        "model2.add(Embedding(total_words, 32, input_length = max_length))\n",
        "model2.add(Bidirectional(LSTM(64)))\n",
        "model2.add(Dropout(0.5))\n",
        "model2.add(Dense(1, activation='sigmoid'))\n",
        "model2.compile(loss='binary_crossentropy', optimizer='adam', metrics=['accuracy', metrics.Recall(),metrics.Precision()]) "
      ]
    },
    {
      "cell_type": "code",
      "execution_count": 63,
      "metadata": {
        "id": "MJfLs52DWmBa",
        "colab": {
          "base_uri": "https://localhost:8080/"
        },
        "outputId": "56e37a89-765e-4748-ac71-c52a8c03038d"
      },
      "outputs": [
        {
          "output_type": "stream",
          "name": "stdout",
          "text": [
            "Epoch 1/12\n",
            "573/573 [==============================] - 50s 73ms/step - loss: 0.4490 - accuracy: 0.7885 - recall_2: 0.8489 - precision_2: 0.7556 - val_loss: 0.3272 - val_accuracy: 0.8724 - val_recall_2: 0.8680 - val_precision_2: 0.8753\n",
            "Epoch 2/12\n",
            "573/573 [==============================] - 39s 68ms/step - loss: 0.2119 - accuracy: 0.9265 - recall_2: 0.9272 - precision_2: 0.9251 - val_loss: 0.3241 - val_accuracy: 0.8667 - val_recall_2: 0.8274 - val_precision_2: 0.8976\n",
            "Epoch 3/12\n",
            "573/573 [==============================] - 39s 68ms/step - loss: 0.1027 - accuracy: 0.9694 - recall_2: 0.9680 - precision_2: 0.9703 - val_loss: 0.3988 - val_accuracy: 0.8678 - val_recall_2: 0.8715 - val_precision_2: 0.8647\n",
            "Epoch 4/12\n",
            "573/573 [==============================] - 39s 67ms/step - loss: 0.0570 - accuracy: 0.9835 - recall_2: 0.9816 - precision_2: 0.9851 - val_loss: 0.4369 - val_accuracy: 0.8479 - val_recall_2: 0.7950 - val_precision_2: 0.8886\n",
            "Epoch 5/12\n",
            "573/573 [==============================] - 39s 67ms/step - loss: 0.0439 - accuracy: 0.9866 - recall_2: 0.9855 - precision_2: 0.9876 - val_loss: 0.4557 - val_accuracy: 0.8501 - val_recall_2: 0.8514 - val_precision_2: 0.8488\n",
            "Epoch 6/12\n",
            "573/573 [==============================] - 39s 68ms/step - loss: 0.0449 - accuracy: 0.9855 - recall_2: 0.9845 - precision_2: 0.9864 - val_loss: 0.5642 - val_accuracy: 0.8542 - val_recall_2: 0.8413 - val_precision_2: 0.8632\n",
            "Epoch 7/12\n",
            "573/573 [==============================] - 39s 67ms/step - loss: 0.0266 - accuracy: 0.9916 - recall_2: 0.9918 - precision_2: 0.9913 - val_loss: 0.7115 - val_accuracy: 0.8536 - val_recall_2: 0.8470 - val_precision_2: 0.8579\n",
            "Epoch 8/12\n",
            "573/573 [==============================] - 39s 68ms/step - loss: 0.0206 - accuracy: 0.9933 - recall_2: 0.9932 - precision_2: 0.9933 - val_loss: 0.7745 - val_accuracy: 0.8521 - val_recall_2: 0.8335 - val_precision_2: 0.8652\n",
            "Epoch 9/12\n",
            "573/573 [==============================] - 39s 68ms/step - loss: 0.0137 - accuracy: 0.9965 - recall_2: 0.9965 - precision_2: 0.9965 - val_loss: 0.7261 - val_accuracy: 0.8549 - val_recall_2: 0.8510 - val_precision_2: 0.8573\n",
            "Epoch 10/12\n",
            "573/573 [==============================] - 39s 68ms/step - loss: 0.0130 - accuracy: 0.9963 - recall_2: 0.9958 - precision_2: 0.9967 - val_loss: 0.7332 - val_accuracy: 0.8475 - val_recall_2: 0.8418 - val_precision_2: 0.8511\n",
            "Epoch 11/12\n",
            "573/573 [==============================] - 39s 68ms/step - loss: 0.0158 - accuracy: 0.9954 - recall_2: 0.9958 - precision_2: 0.9950 - val_loss: 0.7605 - val_accuracy: 0.8425 - val_recall_2: 0.7832 - val_precision_2: 0.8880\n",
            "Epoch 12/12\n",
            "573/573 [==============================] - 39s 68ms/step - loss: 0.0092 - accuracy: 0.9976 - recall_2: 0.9977 - precision_2: 0.9975 - val_loss: 0.7021 - val_accuracy: 0.8479 - val_recall_2: 0.8344 - val_precision_2: 0.8572\n",
            "[0.4490186870098114, 0.21190840005874634, 0.10274391621351242, 0.05703672766685486, 0.04394158720970154, 0.04491188004612923, 0.026620492339134216, 0.020581992343068123, 0.01370176486670971, 0.013035883195698261, 0.015753531828522682, 0.009197486564517021]\n",
            "[0.7885318398475647, 0.9265099167823792, 0.9693927764892578, 0.9834688305854797, 0.9866331815719604, 0.9855420589447021, 0.9915980100631714, 0.9932893514633179, 0.9965082406997681, 0.9962900280952454, 0.9954171180725098, 0.9975994229316711]\n"
          ]
        }
      ],
      "source": [
        "history2=model2.fit(x_train, y_train,\n",
        "           batch_size=32,\n",
        "           epochs=12,\n",
        "           validation_data=[x_test, y_test])\n",
        "print(history2.history['loss'])\n",
        "print(history2.history['accuracy']) "
      ]
    },
    {
      "cell_type": "code",
      "execution_count": 64,
      "metadata": {
        "id": "T88MWdIIW4S-",
        "colab": {
          "base_uri": "https://localhost:8080/",
          "height": 295
        },
        "outputId": "cf2043e6-646d-4794-8eaf-d319bfeb6105"
      },
      "outputs": [
        {
          "output_type": "display_data",
          "data": {
            "image/png": "[encoded data removed]",
            "text/plain": [
              "<Figure size 432x288 with 1 Axes>"
            ]
          },
          "metadata": {
            "needs_background": "light"
          }
        }
      ],
      "source": [
        "from matplotlib import pyplot as plt\n",
        "plt.title('Model Loss')\n",
        "plt.plot(history2.history['loss'])\n",
        "plt.plot(history2.history['val_loss'])\n",
        "plt.ylabel('loss')\n",
        "plt.xlabel('Epoch')\n",
        "plt.legend(['Train', 'Test'], loc='upper left')\n",
        "plt.show();"
      ]
    },
    {
      "cell_type": "code",
      "execution_count": 65,
      "metadata": {
        "id": "0VX0O2aBW8QS",
        "colab": {
          "base_uri": "https://localhost:8080/",
          "height": 295
        },
        "outputId": "3135dff6-a096-4ddf-f894-6518394ef0be"
      },
      "outputs": [
        {
          "output_type": "display_data",
          "data": {
            "image/png": "[encoded data removed]",
            "text/plain": [
              "<Figure size 432x288 with 1 Axes>"
            ]
          },
          "metadata": {
            "needs_background": "light"
          }
        }
      ],
      "source": [
        "plt.plot(history2.history['accuracy'])\n",
        "plt.plot(history2.history['val_accuracy'])\n",
        "plt.title('Model accuracy')\n",
        "plt.ylabel('Accuracy')\n",
        "plt.xlabel('Epoch')\n",
        "plt.legend(['Train', 'Test'], loc='upper left')\n",
        "plt.show()"
      ]
    },
    {
      "cell_type": "code",
      "execution_count": 66,
      "metadata": {
        "id": "fLYqPt24ZaEU",
        "colab": {
          "base_uri": "https://localhost:8080/",
          "height": 295
        },
        "outputId": "d3cb74e5-16b5-4158-818c-9cec0acaf822"
      },
      "outputs": [
        {
          "output_type": "display_data",
          "data": {
            "image/png": "[encoded data removed]",
            "text/plain": [
              "<Figure size 432x288 with 1 Axes>"
            ]
          },
          "metadata": {
            "needs_background": "light"
          }
        }
      ],
      "source": [
        "plt.plot(history2.history['recall_2'])\n",
        "plt.plot(history2.history['val_recall_2'])\n",
        "plt.title('Model Recall')\n",
        "plt.ylabel('Recall')\n",
        "plt.xlabel('Epoch')\n",
        "plt.legend(['Train', 'Test'], loc='upper left')\n",
        "plt.show()"
      ]
    },
    {
      "cell_type": "code",
      "execution_count": 68,
      "metadata": {
        "id": "IU1urEasYZ-6",
        "colab": {
          "base_uri": "https://localhost:8080/",
          "height": 295
        },
        "outputId": "2443df22-05b0-4e00-e40e-747e956afbaf"
      },
      "outputs": [
        {
          "output_type": "display_data",
          "data": {
            "image/png": "[encoded data removed]",
            "text/plain": [
              "<Figure size 432x288 with 1 Axes>"
            ]
          },
          "metadata": {
            "needs_background": "light"
          }
        }
      ],
      "source": [
        "plt.plot(history2.history['precision_2'])\n",
        "plt.plot(history2.history['val_precision_2'])\n",
        "plt.title('Model Precision')\n",
        "plt.ylabel('Precision')\n",
        "plt.xlabel('Epoch')\n",
        "plt.legend(['Train', 'Test'], loc='upper left')\n",
        "plt.show() "
      ]
    },
    {
      "cell_type": "code",
      "execution_count": 69,
      "metadata": {
        "id": "YBdFgfcZaqN1",
        "colab": {
          "base_uri": "https://localhost:8080/"
        },
        "outputId": "b775b3f2-afc1-4f44-c0a9-970658c0b943"
      },
      "outputs": [
        {
          "output_type": "stream",
          "name": "stdout",
          "text": [
            "Train accuracy: 0.9992361830978231\n",
            "Test accuracy 0.8479162120881518\n"
          ]
        }
      ],
      "source": [
        "predictions_nn_train = model2.predict(x_train)\n",
        "predictions_nn_test = model2.predict(x_test)\n",
        "for i in range(len(predictions_nn_train)):\n",
        "    if predictions_nn_train[i][0] < 0.5:\n",
        "        predictions_nn_train[i][0] = 0\n",
        "    else:\n",
        "        predictions_nn_train[i][0] = 1\n",
        "        \n",
        "for i in range(len(predictions_nn_test)):\n",
        "    if predictions_nn_test[i][0] < 0.5:\n",
        "        predictions_nn_test[i][0] = 0\n",
        "    else:\n",
        "        predictions_nn_test[i][0] = 1\n",
        "print('Train accuracy:', accuracy_score(y_train, predictions_nn_train))\n",
        "print('Test accuracy', accuracy_score(y_test, predictions_nn_test))"
      ]
    },
    {
      "cell_type": "markdown",
      "metadata": {
        "id": "7Qmqy-aHbUO0"
      },
      "source": [
        "# Testing"
      ]
    },
    {
      "cell_type": "code",
      "execution_count": null,
      "metadata": {
        "id": "JJTHHUFPbT6D"
      },
      "outputs": [],
      "source": [
        "y_pred = model.predict_classes(x_test, batch_size = 128)\n",
        "\n",
        "true = 0\n",
        "for i, y in enumerate(y_test):\n",
        "    if y == y_pred[i]:\n",
        "        true += 1\n",
        "\n",
        "print('Correct Prediction: {}'.format(true))\n",
        "print('Wrong Prediction: {}'.format(len(y_pred) - true))\n",
        "print('Accuracy: {}'.format(true/len(y_pred)*100))"
      ]
    },
    {
      "cell_type": "markdown",
      "metadata": {
        "id": "WBRdcOprbpQ8"
      },
      "source": [
        "# Load Saved Model"
      ]
    },
    {
      "cell_type": "code",
      "execution_count": null,
      "metadata": {
        "id": "-ww7hk1QboBJ"
      },
      "outputs": [],
      "source": [
        "loaded_model =load_model('/content/sample_data/models/LSTM.h5')\n",
        "\n",
        "\n"
      ]
    },
    {
      "cell_type": "code",
      "execution_count": null,
      "metadata": {
        "id": "bZa7iQJ1b2GO"
      },
      "outputs": [],
      "source": [
        "review = str(input('Movie Review: '))"
      ]
    },
    {
      "cell_type": "code",
      "execution_count": null,
      "metadata": {
        "id": "Xp7tvX9eb_sz"
      },
      "outputs": [],
      "source": [
        "# Pre-process input\n",
        "regex = re.compile(r'[^a-zA-Z\\s]')\n",
        "review = regex.sub('', review)\n",
        "print('Cleaned: ', review)\n",
        "\n",
        "words = review.split(' ')\n",
        "filtered = [w for w in words if w not in english_stops]\n",
        "filtered = ' '.join(filtered)\n",
        "filtered = [filtered.lower()]\n",
        "\n",
        "print('Filtered: ', filtered)"
      ]
    },
    {
      "cell_type": "code",
      "execution_count": null,
      "metadata": {
        "id": "WtuQipyUcAot"
      },
      "outputs": [],
      "source": [
        "tokenize_words = token.texts_to_sequences(filtered)\n",
        "tokenize_words = pad_sequences(tokenize_words, maxlen=max_length, padding='post', truncating='post')\n",
        "print(tokenize_words)"
      ]
    },
    {
      "cell_type": "code",
      "execution_count": null,
      "metadata": {
        "id": "fRWptkuXfXfM"
      },
      "outputs": [],
      "source": [
        "result = loaded_model.predict(tokenize_words)\n",
        "print(result)"
      ]
    },
    {
      "cell_type": "code",
      "execution_count": null,
      "metadata": {
        "id": "IVtIYc0rcT_U"
      },
      "outputs": [],
      "source": [
        "if result >= 0.7:\n",
        "    print('positive')\n",
        "else:\n",
        "    print('negative')"
      ]
    }
  ],
  "metadata": {
    "accelerator": "GPU",
    "colab": {
      "collapsed_sections": [],
      "name": "sentiment_analysis_imdb_lstm.ipynb",
      "provenance": [],
      "mount_file_id": "1PeE7RCHcNw5166HYodLKvLeeq2_ypjPj",
      "authorship_tag": "ABX9TyOGzeyZj1LWAUxVW5djFySw",
      "include_colab_link": true
    },
    "kernelspec": {
      "display_name": "Python 3",
      "name": "python3"
    }
  },
  "nbformat": 4,
  "nbformat_minor": 0
}